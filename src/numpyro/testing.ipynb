{
 "cells": [
  {
   "cell_type": "code",
   "execution_count": 1,
   "metadata": {},
   "outputs": [
    {
     "name": "stdout",
     "output_type": "stream",
     "text": [
      "Opening /Users/aibrahi2/Research/Bayesian_Inference-ML-Atmospheric_Correction/data/tables/aerosol_ref_transmittance_LUT.nc\n",
      "Opening /Users/aibrahi2/Research/Bayesian_Inference-ML-Atmospheric_Correction/data/tables/Rayleigh_LUT.nc\n"
     ]
    },
    {
     "name": "stderr",
     "output_type": "stream",
     "text": [
      "/Users/aibrahi2/anaconda3/envs/new_pymc/lib/python3.7/site-packages/sklearn/base.py:306: UserWarning: Trying to unpickle estimator MinMaxScaler from version 0.20.3 when using version 0.21.3. This might lead to breaking code or invalid results. Use at your own risk.\n",
      "  UserWarning)\n"
     ]
    },
    {
     "name": "stdout",
     "output_type": "stream",
     "text": [
      "Loaded Neural Network model.\n",
      "Loaded Neural Network model.\n"
     ]
    }
   ],
   "source": [
    "import pickle\n",
    "from forward_model import fwModel \n",
    "import sys\n",
    "sys.path.insert(\n",
    "    0, '/Users/aibrahi2/Research/Bayesian_Inference-ML-Atmospheric_Correction/src')\n",
    "import LUT_generator.ac_likelihood_w_chlor as ac_likelihood_w_chlor\n",
    "from acModel import acModel\n",
    "import numpyro\n",
    "from numpyro.infer import MCMC, NUTS\n",
    "import numpy as onp\n",
    "from scipy.interpolate import RegularGridInterpolator as RGI\n",
    "import argparse\n",
    "import jax.random as random\n",
    "\n",
    "\n",
    "NN_path = '../../data/NN_model/best_model_pca_tf_lognorm/'\n",
    "scaler_path = '../../data/NN_model/best_model_pca_tf_lognorm_input_scaler.bin'\n",
    "fwd = fwModel(NN_path, scaler_path)\n",
    "fwd.load_NN(scaler_path)\n",
    "forward_model = fwd.forward_model\n",
    "\n"
   ]
  },
  {
   "cell_type": "code",
   "execution_count": 15,
   "metadata": {},
   "outputs": [],
   "source": [
    "def σ_per_geom(solz, relaz, senz):\n",
    "    diff_per_geom = onp.load('../../data/NN_model/diff_per_geom.npy')\n",
    "    θ0 = onp.linspace(0, 80, 9)\n",
    "    ϕ = onp.linspace(0, 180, 19)\n",
    "    θ = onp.linspace(0, 70, 8)\n",
    "    return RGI((θ0, ϕ, θ), diff_per_geom)((solz, relaz, senz))\n",
    "\n",
    "def run_inference(model, rng_key, priors, geom, observations, nir):\n",
    "    kernel = NUTS(model)\n",
    "    mcmc = MCMC(kernel, 100, 100, num_chains=1,\n",
    "                progress_bar=True, chain_method='parallel')\n",
    "    solz = geom[0]; relaz = geom[1]; senz = geom[2]\n",
    "    σ_mdl = σ_per_geom(solz, relaz, senz)\n",
    "    mcmc.run(rng_key, observations, priors, σ_mdl, nir)\n",
    "    trace = mcmc.get_samples(group_by_chain=True)\n",
    "    return trace\n",
    "\n",
    "\n",
    "def main( model, priors, geom, observation, nir):\n",
    "\n",
    "    global samples\n",
    "\n",
    "    # do inference\n",
    "    rng_key = random.PRNGKey(0)\n",
    "    rng_key, rng_key_ = random.split(rng_key)\n",
    "    samples = run_inference(model, rng_key_,\n",
    "                                priors, geom, observation, nir)\n",
    "\n"
   ]
  },
  {
   "cell_type": "code",
   "execution_count": 16,
   "metadata": {},
   "outputs": [
    {
     "name": "stdout",
     "output_type": "stream",
     "text": [
      "[0.3540061  0.31756118 0.28843156 0.26350653 0.2118493  0.19553697\n",
      " 0.18856955 0.14801267 0.14763978 0.14663665 0.12892458 0.10226407\n",
      " 0.10208725]\n"
     ]
    },
    {
     "name": "stderr",
     "output_type": "stream",
     "text": [
      "sample: 100%|██████████| 200/200 [00:19<00:00, 10.17it/s, 1023 steps of size 3.83e-03. acc. prob=0.95]\n"
     ]
    }
   ],
   "source": [
    "assert numpyro.__version__.startswith('0.2.4')\n",
    "# parser = argparse.ArgumentParser(description=\"Atmospheric Correction Inference\")\n",
    "# parser.add_argument(\"-n\", \"--num_samples\", nargs=\"?\",\n",
    "#                     default=1000, type=int)\n",
    "# parser.add_argument(\"--num_warmup\", nargs='?', default=1000, type=int)\n",
    "# parser.add_argument(\"--num_chains\", nargs='?', default=1, type=int)\n",
    "# parser.add_argument(\"--device\", default='cpu',\n",
    "#                     type=str, help='use \"cpu\" or \"gpu\".')\n",
    "# args = parser.parse_args()\n",
    "\n",
    "# numpyro.set_platform(args.device)\n",
    "# numpyro.set_host_device_count(args.num_chains)\n",
    "\n",
    "\n",
    "with open('/Users/aibrahi2/Research/atmocor/chlor_based_ret/in_out_na_df.pkl', 'rb') as pickle_file:\n",
    "    in_out_na_df = pickle.load(pickle_file)\n",
    "\n",
    "NN = 1\n",
    "LUT = 0\n",
    "nir = 0\n",
    "\n",
    "for i in range(1):\n",
    "    pr = in_out_na_df['pr'].values[i]\n",
    "    ws = in_out_na_df['ws'].values[i]\n",
    "    rh = in_out_na_df['rh'].values[i]\n",
    "    o3 = in_out_na_df['o3'].values[i]\n",
    "    fmf = in_out_na_df['fmf'].values[i]\n",
    "    τ = in_out_na_df['τ'].values[i]\n",
    "    wv = in_out_na_df['wv'].values[i]\n",
    "    chlor_a = in_out_na_df['chlor_a'].values[i]\n",
    "    solz = in_out_na_df['solz'].values[i]\n",
    "    relaz = in_out_na_df['relaz'].values[i]\n",
    "    senz = in_out_na_df['senz'].values[i]\n",
    "\n",
    "    priors = [pr, ws, rh, o3, wv, solz, relaz, senz]\n",
    "    inputs_ = (([pr, ws, rh, o3, fmf, τ, wv, chlor_a, solz, relaz, senz]))\n",
    "    if NN:\n",
    "        ρ_obs = (forward_model(inputs_))[0:13]\n",
    "    elif LUT:\n",
    "        ρ_obs = ac_likelihood_w_chlor.get_toa(\n",
    "            onp.array([pr, ws, rh, o3, fmf, τ, wv, chlor_a]), solz, relaz, senz)[0, 0:13]\n",
    "geom = (solz, relaz, senz)\n",
    "print(ρ_obs)\n",
    "main(acModel, priors, geom, ρ_obs, nir)"
   ]
  },
  {
   "cell_type": "code",
   "execution_count": 18,
   "metadata": {},
   "outputs": [
    {
     "ename": "AttributeError",
     "evalue": "'dict' object has no attribute 'summary'",
     "output_type": "error",
     "traceback": [
      "\u001b[0;31m---------------------------------------------------------------------------\u001b[0m",
      "\u001b[0;31mAttributeError\u001b[0m                            Traceback (most recent call last)",
      "\u001b[0;32m<ipython-input-18-befdf77be50b>\u001b[0m in \u001b[0;36m<module>\u001b[0;34m\u001b[0m\n\u001b[0;32m----> 1\u001b[0;31m \u001b[0msamples\u001b[0m\u001b[0;34m.\u001b[0m\u001b[0msummary\u001b[0m\u001b[0;34m(\u001b[0m\u001b[0;34m)\u001b[0m\u001b[0;34m\u001b[0m\u001b[0;34m\u001b[0m\u001b[0m\n\u001b[0m",
      "\u001b[0;31mAttributeError\u001b[0m: 'dict' object has no attribute 'summary'"
     ]
    }
   ],
   "source": [
    "samples."
   ]
  },
  {
   "cell_type": "code",
   "execution_count": 16,
   "metadata": {},
   "outputs": [],
   "source": [
    "from functools import lru_cache\n"
   ]
  },
  {
   "cell_type": "code",
   "execution_count": 17,
   "metadata": {},
   "outputs": [],
   "source": [
    "import functools\n",
    "import gc\n",
    "\n",
    "gc.collect()\n",
    "wrappers = [\n",
    "    a for a in gc.get_objects() \n",
    "    if isinstance(a, functools._lru_cache_wrapper)]\n",
    "\n",
    "for wrapper in wrappers:\n",
    "    wrapper.cache_clear()\n"
   ]
  },
  {
   "cell_type": "code",
   "execution_count": 5,
   "metadata": {},
   "outputs": [
    {
     "data": {
      "text/plain": [
       "<function acModel.acModel(ρ_obs, priors, σ_mdl, nir)>"
      ]
     },
     "execution_count": 5,
     "metadata": {},
     "output_type": "execute_result"
    }
   ],
   "source": [
    "acModel"
   ]
  },
  {
   "cell_type": "code",
   "execution_count": null,
   "metadata": {},
   "outputs": [],
   "source": []
  }
 ],
 "metadata": {
  "kernelspec": {
   "display_name": "Python 3",
   "language": "python",
   "name": "python3"
  },
  "language_info": {
   "codemirror_mode": {
    "name": "ipython",
    "version": 3
   },
   "file_extension": ".py",
   "mimetype": "text/x-python",
   "name": "python",
   "nbconvert_exporter": "python",
   "pygments_lexer": "ipython3",
   "version": "3.7.6"
  }
 },
 "nbformat": 4,
 "nbformat_minor": 4
}
